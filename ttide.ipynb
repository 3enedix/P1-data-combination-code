{
 "cells": [
  {
   "cell_type": "markdown",
   "id": "f31c8299-4802-4ed6-9c19-36753f119897",
   "metadata": {
    "tags": []
   },
   "source": [
    "# Harmonic analysis of tide gauge data with T_Tide\n",
    "\n",
    "**Datasets this notebook expects to find** under the below given datapaths:\n",
    "- `TG_rijkswaterstaat_1992_01_01-2021_12_31.csv` (combined and cleaned individual .csv files from rijkswaterstaat using function `prepare_TG_rijkswaterstaat_data` in the coastal_data module)\n",
    "\n",
    "Files that are **created** in this notebook:\n",
    "- `ttide_from_1year.csv` and `ttide_from_5years.csv` (harmonical analysis for 1 or 5 years and prediction for the entire time period, because of 18.6 years nodal cycle restriction)\n",
    "\n",
    "**Required python modules**\n",
    "- [coastal_data](https://github.com/3enedix/coastal-sea-level/tree/main/coastal_data)\n",
    "- [ttide](https://github.com/moflaher/ttide_py)"
   ]
  },
  {
   "cell_type": "code",
   "execution_count": 1,
   "id": "1c2b6df0-9380-4bc0-9789-546f8f055551",
   "metadata": {},
   "outputs": [],
   "source": [
    "main_datapath_input = '/home/bene/PhD-docs/80_papers/1_dataset_combination/data/input/'\n",
    "main_datapath_output = '/home/bene/PhD-docs/80_papers/1_dataset_combination/data/output/'"
   ]
  },
  {
   "cell_type": "markdown",
   "id": "e03c3667-4f33-4aa1-9b88-a75fcd4f466a",
   "metadata": {},
   "source": [
    "## Imports"
   ]
  },
  {
   "cell_type": "code",
   "execution_count": 2,
   "id": "7b0d3c6c-c724-41bb-8eb7-5bfd6d5fe9f6",
   "metadata": {},
   "outputs": [],
   "source": [
    "%load_ext autoreload\n",
    "%autoreload 2\n",
    "\n",
    "import ttide as tt\n",
    "import pandas as pd\n",
    "from zoneinfo import ZoneInfo\n",
    "import matplotlib.pyplot as plt\n",
    "from coastal_data import CD_statistics, CD_helper_functions"
   ]
  },
  {
   "cell_type": "code",
   "execution_count": 3,
   "id": "ee6bae7f-e50e-45f0-8e42-a5e4044475eb",
   "metadata": {},
   "outputs": [],
   "source": [
    "# matplotlib fontsizes\n",
    "SMALL_SIZE = 8\n",
    "MEDIUM_SIZE = 20\n",
    "BIGGER_SIZE = 25\n",
    "\n",
    "plt.rc('font', size=SMALL_SIZE)          # controls default text sizes\n",
    "plt.rc('axes', titlesize=BIGGER_SIZE)     # fontsize of the axes title\n",
    "plt.rc('axes', labelsize=MEDIUM_SIZE)    # fontsize of the x and y labels\n",
    "plt.rc('xtick', labelsize=MEDIUM_SIZE)    # fontsize of the tick labels\n",
    "plt.rc('ytick', labelsize=MEDIUM_SIZE)    # fontsize of the tick labels\n",
    "plt.rc('legend', fontsize=MEDIUM_SIZE)    # legend fontsize\n",
    "plt.rc('figure', titlesize=BIGGER_SIZE)  # fontsize of the figure title"
   ]
  },
  {
   "cell_type": "markdown",
   "id": "1847012d-a51a-4e43-9a3f-d9fa405e44a4",
   "metadata": {},
   "source": [
    "## Data"
   ]
  },
  {
   "cell_type": "code",
   "execution_count": 4,
   "id": "5e468511-617f-4e76-ac38-8d567f0a77c0",
   "metadata": {},
   "outputs": [],
   "source": [
    "tg_data = pd.read_csv(main_datapath_input + 'TG_rijkswaterstaat_1992_01_01-2021_12_31.csv', index_col='datetime[utc]', \\\n",
    "                  parse_dates=['datetime[utc]'])"
   ]
  },
  {
   "cell_type": "markdown",
   "id": "6389cb0b-732d-4b32-a284-87ad6370225a",
   "metadata": {
    "tags": []
   },
   "source": [
    "## Harmonic Analysis"
   ]
  },
  {
   "cell_type": "code",
   "execution_count": 5,
   "id": "12a55fed-4b64-49d7-b45e-4bc778b0400a",
   "metadata": {
    "tags": []
   },
   "outputs": [],
   "source": [
    "shallownames = ['2SM2', 'M4', 'M6', 'M8', 'S4', 'S6', 'MK3', 'MN4', 'MS4', 'SO1', 'MSN2', 'MO3', 'MK3', 'MK4', '2MS6', 'M8']"
   ]
  },
  {
   "cell_type": "code",
   "execution_count": 6,
   "id": "83501e59-28f4-45ed-bc73-cf3ea308e7ed",
   "metadata": {
    "tags": []
   },
   "outputs": [
    {
     "name": "stderr",
     "output_type": "stream",
     "text": [
      "/home/bene/PhD-git/73_ttide_py/ttide/t_vuf.py:51: RuntimeWarning: invalid value encountered in fmod\n",
      "  v = np.fmod(np.dot(const['doodson'], astro) + const['semi'], 1)\n"
     ]
    },
    {
     "name": "stdout",
     "output_type": "stream",
     "text": [
      "-----------------------------------\n",
      "nobs = 52705 \n",
      "ngood = 52705 \n",
      "record length (days) = 366.01\n",
      "start time: 1992-01-01 00:00:00\n",
      "rayleigh criterion = 1.0\n",
      "\n",
      "Greenwich phase computed with nodal\n",
      "                   corrections applied to amplitude\n",
      "                   and phase relative to center time\n",
      "\n",
      "x0= -6.75  xtrend= 0\n",
      "var(data)= 5291.80    var(prediction)= 4719.52    var(residual)= 572.36\n",
      "var(prediction)/var(data) (%) = 89.2\n",
      "\n",
      "        tidal amplitude and phase with 95 % CI estimates\n",
      " tide      freq        amp      amp_err   pha      pha_err    snr\n",
      "* SA    0.0001141     8.8638     4.317    298.45     35.77       4.2\n",
      "  SSA   0.0002282     0.9224     3.417     79.58    181.75     0.073\n",
      "  MSM   0.0013098     3.5037     4.087    197.37     78.22      0.73\n",
      "  MM    0.0015122     2.3911     4.346    309.45    107.51       0.3\n",
      "  MSF   0.0028219     1.5545     3.826    318.13    146.18      0.17\n",
      "  MF    0.0030501     1.5392     3.790    226.60    154.63      0.16\n",
      "  ALP1  0.0343966     0.6010     0.617    198.19     63.43      0.95\n",
      "* 2Q1   0.0357064     0.6344     0.621     87.95     59.44         1\n",
      "* SIG1  0.0359087     0.7784     0.708     37.37     46.79       1.2\n",
      "* Q1    0.0372185     2.5512     0.732    110.62     12.99        12\n",
      "* RHO1  0.0374209     0.7944     0.664    152.32     58.45       1.4\n",
      "* O1    0.0387307     9.3715     0.625    188.37      4.50   2.2e+02\n",
      "  TAU1  0.0389588     0.2306     0.538    250.84    136.27      0.18\n",
      "  BET1  0.0400404     0.1821     0.491    126.52    164.05      0.14\n",
      "* NO1   0.0402686     1.0819     0.659    233.90     28.00       2.7\n",
      "  CHI1  0.0404710     0.1033     0.489    342.70    218.27     0.045\n",
      "  PI1   0.0414385     0.3480     0.557    247.11    117.79      0.39\n",
      "* P1    0.0415526     2.2698     0.743    342.96     16.22       9.3\n",
      "* S1    0.0416667     1.3260     1.154    148.88     45.10       1.3\n",
      "* K1    0.0417807     7.4770     0.671    350.34      4.80   1.2e+02\n",
      "  PSI1  0.0418948     0.2542     0.495    351.19    144.65      0.26\n",
      "  PHI1  0.0420089     0.2401     0.450      4.95    137.28      0.28\n",
      "  THE1  0.0430905     0.5023     0.608      2.28     75.23      0.68\n",
      "  J1    0.0432929     0.2754     0.531    289.68    121.48      0.27\n",
      "  SO1   0.0446027     0.1697     0.531    250.24    186.11       0.1\n",
      "  OO1   0.0448308     0.5918     0.592    127.27     59.75         1\n",
      "  UPS1  0.0463430     0.2299     0.501    178.93    140.12      0.21\n",
      "* OQ2   0.0759749     0.8654     0.554    203.29     36.41       2.4\n",
      "* EPS2  0.0761773     1.6547     0.613    259.58     21.60       7.3\n",
      "* 2N2   0.0774871     2.3885     0.571    197.49     14.56        17\n",
      "* MU2   0.0776895     6.5646     0.649    288.74      4.89     1e+02\n",
      "* N2    0.0789992    14.7450     0.621    183.76      2.57   5.6e+02\n",
      "* NU2   0.0792016     4.3724     0.606    170.93      7.35        52\n",
      "* H1    0.0803973     1.6373     0.527    264.46     19.16       9.6\n",
      "* M2    0.0805114    89.0579     0.631    207.38      0.39     2e+04\n",
      "* H2    0.0806255     1.0671     0.639     11.83     36.15       2.8\n",
      "* MKS2  0.0807396     1.0805     0.616    359.02     30.35       3.1\n",
      "* LDA2  0.0818212     2.8635     0.590    218.92     11.02        24\n",
      "* L2    0.0820236     8.0932     0.677    232.88      5.17   1.4e+02\n",
      "* T2    0.0832193     1.6356     0.595    249.56     21.91       7.6\n",
      "* S2    0.0833333    25.0855     0.576    267.99      1.59   1.9e+03\n",
      "  R2    0.0834474     0.3262     0.439    296.07     98.66      0.55\n",
      "* K2    0.0835615     7.4247     0.645    268.98      4.03   1.3e+02\n",
      "* MSN2  0.0848455     0.6829     0.605     79.39     49.30       1.3\n",
      "  ETA2  0.0850736     0.2152     0.412     96.16    109.21      0.27\n",
      "* MO3   0.1192421     0.6586     0.211    313.56     17.24       9.7\n",
      "* M3    0.1207671     0.3145     0.179    313.78     41.36       3.1\n",
      "* SO3   0.1220640     0.7514     0.194     33.55     16.21        15\n",
      "* MK3   0.1222921     0.3236     0.219    144.66     38.92       2.2\n",
      "  SK3   0.1251141     0.1920     0.210    200.36     72.33      0.84\n",
      "* MN4   0.1595106     1.3600     0.685    246.60     28.45       3.9\n",
      "* M4    0.1610228     4.5166     0.820    279.96      8.24        30\n",
      "  SN4   0.1623326     0.5093     0.610     30.71     74.81       0.7\n",
      "* MS4   0.1638447     2.9103     0.693    347.55     14.23        18\n",
      "* MK4   0.1640729     0.7971     0.651    345.51     55.96       1.5\n",
      "  S4    0.1666667     0.3914     0.618    122.45    103.27       0.4\n",
      "  SK4   0.1668948     0.2669     0.535     41.95    138.70      0.25\n",
      "* 2MK5  0.2028035     0.3170     0.117     39.51     21.27       7.3\n",
      "* 2SK5  0.2084474     0.1096     0.093     28.95     62.57       1.4\n",
      "* 2MN6  0.2400221     2.5674     0.540    313.79     11.96        23\n",
      "* M6    0.2415342     2.5965     0.493    346.98     11.11        28\n",
      "* 2MS6  0.2443561     2.4248     0.543     44.01     11.93        20\n",
      "* 2MK6  0.2445843     1.2579     0.533     39.18     24.38       5.6\n",
      "* 2SM6  0.2471781     0.7415     0.507    118.78     40.79       2.1\n",
      "  MSK6  0.2474062     0.4677     0.496     86.99     58.62      0.89\n",
      "* 3MK7  0.2833149     0.1699     0.106    239.84     38.65       2.6\n",
      "* M8    0.3220456     0.1990     0.127    118.16     35.44       2.5\n",
      "* 2SM2  0.0861553     2.0022     0.649    117.76     16.08       9.5\n",
      "* M4    0.1610228     4.5166     0.706    279.96      8.52        41\n",
      "* M6    0.2415342     2.5965     0.587    346.98     11.00        20\n",
      "* M8    0.3220456     0.1990     0.109    118.16     40.53       3.4\n",
      "  S4    0.1666667     0.3914     0.593    122.45    103.01      0.44\n",
      "  S6    0.2500000     0.1028     0.352    289.03    197.56     0.085\n",
      "* MK3   0.1222921     0.3236     0.189    144.66     38.63       2.9\n",
      "* MN4   0.1595106     1.3600     0.732    246.60     27.97       3.4\n",
      "* MS4   0.1638447     2.9103     0.604    347.55     12.97        23\n",
      "  SO1   0.0446027     0.1697     0.507    250.24    159.86      0.11\n",
      "* MSN2  0.0848455     0.6829     0.570     79.39     53.13       1.4\n",
      "* MO3   0.1192421     0.6586     0.204    313.56     18.63        10\n",
      "* MK3   0.1222921     0.3236     0.205    144.66     34.82       2.5\n",
      "* MK4   0.1640729     0.7971     0.668    345.51     57.86       1.4\n",
      "* 2MS6  0.2443561     2.4248     0.490     44.01     13.68        24\n",
      "* M8    0.3220456     0.1990     0.125    118.16     35.55       2.5\n"
     ]
    }
   ],
   "source": [
    "# 1 year\n",
    "start = pd.Timestamp('1992-01-01', tz=ZoneInfo(\"UTC\"))\n",
    "end = pd.Timestamp('1993-01-01', tz=ZoneInfo(\"UTC\"))\n",
    "tg = tg_data[(tg_data.index >= start) & (tg_data.index <= end)]\n",
    "tfit_1 = tt.t_tide(tg['ssh[cm]'].values, dt=1/6, stime=start, lat=53.420034, synth=1.0, \\\n",
    "            shallownames=shallownames) #, constitnames=constitnames)"
   ]
  },
  {
   "cell_type": "code",
   "execution_count": 7,
   "id": "941a8324-e646-4e6e-88b1-02fc13646e21",
   "metadata": {
    "tags": []
   },
   "outputs": [
    {
     "name": "stdout",
     "output_type": "stream",
     "text": [
      "-----------------------------------\n",
      "nobs = 262945 \n",
      "ngood = 262945 \n",
      "record length (days) = 1826.01\n",
      "start time: 1992-01-01 00:00:00\n",
      "rayleigh criterion = 1.0\n",
      "\n",
      "Greenwich phase computed with nodal\n",
      "                   corrections applied to amplitude\n",
      "                   and phase relative to center time\n",
      "\n",
      "x0= -7.38  xtrend= 0\n",
      "var(data)= 5519.00    var(prediction)= 4788.28    var(residual)= 730.77\n",
      "var(prediction)/var(data) (%) = 86.8\n",
      "\n",
      "        tidal amplitude and phase with 95 % CI estimates\n",
      " tide      freq        amp      amp_err   pha      pha_err    snr\n",
      "* SA    0.0001141     7.7050     3.869    296.02     28.81         4\n",
      "  SSA   0.0002282     1.8086     3.112    189.27    105.42      0.34\n",
      "  MSM   0.0013098     0.5540     2.446    100.67    214.69     0.051\n",
      "  MM    0.0015122     1.3474     2.751    342.08    165.21      0.24\n",
      "  MSF   0.0028219     1.4034     2.855    334.06    125.42      0.24\n",
      "  MF    0.0030501     1.8375     2.925    295.30    117.57      0.39\n",
      "  ALP1  0.0343966     0.3672     0.416    210.40     74.39      0.78\n",
      "* 2Q1   0.0357064     0.5342     0.456     83.35     53.30       1.4\n",
      "* SIG1  0.0359087     0.5996     0.505     59.11     49.35       1.4\n",
      "* Q1    0.0372185     3.2771     0.462    128.11      8.37        50\n",
      "* RHO1  0.0374209     0.6859     0.438    124.57     39.30       2.5\n",
      "* O1    0.0387307     9.1839     0.473    192.09      2.71   3.8e+02\n",
      "  TAU1  0.0389588     0.1434     0.288    330.36    124.48      0.25\n",
      "  BET1  0.0400404     0.1916     0.342    179.98    121.44      0.31\n",
      "* NO1   0.0402686     0.6994     0.379    272.30     31.70       3.4\n",
      "  CHI1  0.0404710     0.0903     0.332    281.39    178.71     0.074\n",
      "  PI1   0.0414385     0.1211     0.297    345.32    155.11      0.17\n",
      "* P1    0.0415526     2.4663     0.404    349.26     10.59        37\n",
      "* S1    0.0416667     1.3754     0.515    152.68     23.68       7.1\n",
      "* K1    0.0417807     7.2609     0.434    349.12      3.33   2.8e+02\n",
      "  PSI1  0.0418948     0.1679     0.331    352.69    135.26      0.26\n",
      "  PHI1  0.0420089     0.2427     0.354      7.42     95.55      0.47\n",
      "  THE1  0.0430905     0.1615     0.339    353.84    163.04      0.23\n",
      "  J1    0.0432929     0.1566     0.342     96.11    153.72      0.21\n",
      "  SO1   0.0446027     0.1041     0.250    224.44    178.11      0.17\n",
      "  OO1   0.0448308     0.4973     0.575    134.76     69.71      0.75\n",
      "  UPS1  0.0463430     0.2609     0.520    151.40    134.35      0.25\n",
      "  OQ2   0.0759749     0.1859     0.308    131.17    134.09      0.37\n",
      "* EPS2  0.0761773     1.5494     0.427    271.70     15.53        13\n",
      "* 2N2   0.0774871     1.9267     0.421    160.13     13.47        21\n",
      "* MU2   0.0776895     6.8768     0.392    293.45      3.47   3.1e+02\n",
      "* N2    0.0789992    14.5671     0.408    182.58      1.65   1.3e+03\n",
      "* NU2   0.0792016     4.7517     0.382    171.07      4.67   1.5e+02\n",
      "* GAM2  0.0803090     0.4886     0.379    142.41     45.94       1.7\n",
      "* H1    0.0803973     2.7881     0.438    273.03      9.17        40\n",
      "* M2    0.0805114    88.4297     0.392    206.46      0.25   5.1e+04\n",
      "* H2    0.0806255     1.0488     0.451     86.05     22.93       5.4\n",
      "  MKS2  0.0807396     0.2785     0.385    286.50     97.48      0.52\n",
      "* LDA2  0.0818212     2.8964     0.450    214.45      8.11        41\n",
      "* L2    0.0820236     6.3522     0.385    209.14      3.21   2.7e+02\n",
      "* T2    0.0832193     1.3712     0.423    238.67     17.62        10\n",
      "* S2    0.0833333    24.6138     0.399    266.75      0.83   3.8e+03\n",
      "* R2    0.0834474     0.4374     0.318    314.54     45.70       1.9\n",
      "* K2    0.0835615     7.5802     0.518    268.34      3.96   2.1e+02\n",
      "* MSN2  0.0848455     0.8149     0.431     92.34     28.35       3.6\n",
      "  ETA2  0.0850736     0.1889     0.438    118.76    136.69      0.19\n",
      "* MO3   0.1192421     0.6762     0.187    317.51      8.08        13\n",
      "* M3    0.1207671     0.6703     0.123    324.83     12.92        30\n",
      "* SO3   0.1220640     0.6564     0.177     35.91     13.32        14\n",
      "* MK3   0.1222921     0.2673     0.099    136.51     39.76       7.3\n",
      "* SK3   0.1251141     0.2514     0.175    208.63     25.58       2.1\n",
      "* MN4   0.1595106     1.4447     0.324    247.80     13.39        20\n",
      "* M4    0.1610228     4.4072     0.315    276.61      4.45     2e+02\n",
      "* SN4   0.1623326     0.3781     0.357     22.66     53.62       1.1\n",
      "* MS4   0.1638447     2.8434     0.359    345.46      8.32        63\n",
      "* MK4   0.1640729     0.7867     0.476    346.65     30.68       2.7\n",
      "  S4    0.1666667     0.2736     0.340    125.17     87.58      0.65\n",
      "  SK4   0.1668948     0.4061     0.412     85.26     63.62      0.97\n",
      "* 2MK5  0.2028035     0.3004     0.070     36.34     13.30        18\n",
      "* 2SK5  0.2084474     0.0597     0.059     72.52     68.39         1\n",
      "* 2MN6  0.2400221     2.5275     0.260    311.68      5.58        95\n",
      "* M6    0.2415342     2.4433     0.225    342.39      6.87   1.2e+02\n",
      "* 2MS6  0.2443561     2.2451     0.253     40.73      6.17        78\n",
      "* 2MK6  0.2445843     1.2900     0.283     42.37     13.49        21\n",
      "* 2SM6  0.2471781     0.6231     0.272    109.43     26.33       5.2\n",
      "* MSK6  0.2474062     0.4422     0.301    109.18     39.86       2.2\n",
      "* 3MK7  0.2833149     0.1462     0.056    226.44     21.16       6.8\n",
      "* M8    0.3220456     0.1902     0.046    104.42     15.34        17\n",
      "* 2SM2  0.0861553     2.1060     0.444    117.33     10.84        22\n",
      "* M4    0.1610228     4.4072     0.346    276.61      4.46   1.6e+02\n",
      "* M6    0.2415342     2.4433     0.255    342.39      5.80        92\n",
      "* M8    0.3220456     0.1902     0.052    104.42     17.28        13\n",
      "  S4    0.1666667     0.2736     0.340    125.17     93.89      0.65\n",
      "  S6    0.2500000     0.1427     0.212    303.44    102.02      0.45\n",
      "* MK3   0.1222921     0.2673     0.116    136.51     36.28       5.3\n",
      "* MN4   0.1595106     1.4447     0.365    247.80     13.37        16\n",
      "* MS4   0.1638447     2.8434     0.357    345.46      7.68        63\n",
      "  SO1   0.0446027     0.1041     0.268    224.44    154.22      0.15\n",
      "* MSN2  0.0848455     0.8149     0.416     92.34     28.14       3.8\n",
      "* MO3   0.1192421     0.6762     0.174    317.51      8.49        15\n",
      "* MK3   0.1222921     0.2673     0.084    136.51     42.77        10\n",
      "* MK4   0.1640729     0.7867     0.421    346.65     32.56       3.5\n",
      "* 2MS6  0.2443561     2.2451     0.278     40.73      6.93        65\n",
      "* M8    0.3220456     0.1902     0.057    104.42     15.29        11\n"
     ]
    }
   ],
   "source": [
    "# 5-years\n",
    "start = pd.Timestamp('1992-01-01', tz=ZoneInfo(\"UTC\"))\n",
    "end = pd.Timestamp('1996-12-31', tz=ZoneInfo(\"UTC\"))\n",
    "tg = tg_data[(tg_data.index >= start) & (tg_data.index <= end)]\n",
    "tfit_5 = tt.t_tide(tg['ssh[cm]'].values, dt=1/6, stime=start, lat=53.420034, synth=1.0, \\\n",
    "            shallownames=shallownames) #, constitnames=constitnames)"
   ]
  },
  {
   "cell_type": "markdown",
   "id": "5ef238f2-fb58-4ad6-a64f-53586f8e9532",
   "metadata": {},
   "source": [
    "## Tidal prediction"
   ]
  },
  {
   "cell_type": "code",
   "execution_count": 8,
   "id": "7c2cd9d5-044f-4e9e-995b-31d2e8970a52",
   "metadata": {
    "tags": []
   },
   "outputs": [],
   "source": [
    "tg_time = tg_data.index.to_pydatetime()\n",
    "corr_1 = tfit_1(tg_time)\n",
    "corr_5 = tfit_5(tg_time)\n",
    "tg_corr_1 = tg_data['ssh[cm]'] - corr_1\n",
    "tg_corr_5 = tg_data['ssh[cm]'] - corr_5"
   ]
  },
  {
   "cell_type": "markdown",
   "id": "e5f78911-f303-47cd-838a-d79d364fdaea",
   "metadata": {},
   "source": [
    "## Plots"
   ]
  },
  {
   "cell_type": "raw",
   "id": "bb87bb65-b084-4d2c-803c-fe50247af8f4",
   "metadata": {},
   "source": [
    "fig, ax = plt.subplots(figsize=(20, 8))\n",
    "diff = tg_corr_5 - tg_corr_1\n",
    "\n",
    "ax.plot(tg_data['ssh[cm]'], label='orig')\n",
    "ax.plot(tg_corr_5, label='5 years, std = ' + str(CD_statistics.std(tg_corr_5)))\n",
    "ax.plot(tg_corr_1, label='1 year, std = ' + str(CD_statistics.std(tg_corr_1)))\n",
    "ax.plot(diff, label='diff')\n",
    "ax.set_ylabel('[cm]')\n",
    "ax.legend(loc='lower right')\n",
    "ax.grid()"
   ]
  },
  {
   "cell_type": "markdown",
   "id": "1e56aea1-a1e4-4564-8dc9-331df3af0d36",
   "metadata": {},
   "source": [
    "## Save"
   ]
  },
  {
   "cell_type": "code",
   "execution_count": 9,
   "id": "7fe00953-7f74-422b-8c07-26c0bb1cbe8b",
   "metadata": {},
   "outputs": [
    {
     "data": {
      "text/html": [
       "<div>\n",
       "<style scoped>\n",
       "    .dataframe tbody tr th:only-of-type {\n",
       "        vertical-align: middle;\n",
       "    }\n",
       "\n",
       "    .dataframe tbody tr th {\n",
       "        vertical-align: top;\n",
       "    }\n",
       "\n",
       "    .dataframe thead th {\n",
       "        text-align: right;\n",
       "    }\n",
       "</style>\n",
       "<table border=\"1\" class=\"dataframe\">\n",
       "  <thead>\n",
       "    <tr style=\"text-align: right;\">\n",
       "      <th></th>\n",
       "      <th>ssh_corr[cm]</th>\n",
       "      <th>corr[cm]</th>\n",
       "    </tr>\n",
       "    <tr>\n",
       "      <th>datetime[utc]</th>\n",
       "      <th></th>\n",
       "      <th></th>\n",
       "    </tr>\n",
       "  </thead>\n",
       "  <tbody>\n",
       "    <tr>\n",
       "      <th>1991-12-31 23:00:00+00:00</th>\n",
       "      <td>-18.08</td>\n",
       "      <td>-18.08</td>\n",
       "    </tr>\n",
       "    <tr>\n",
       "      <th>1991-12-31 23:10:00+00:00</th>\n",
       "      <td>-18.97</td>\n",
       "      <td>-18.97</td>\n",
       "    </tr>\n",
       "    <tr>\n",
       "      <th>1991-12-31 23:20:00+00:00</th>\n",
       "      <td>-20.71</td>\n",
       "      <td>-20.71</td>\n",
       "    </tr>\n",
       "    <tr>\n",
       "      <th>1991-12-31 23:30:00+00:00</th>\n",
       "      <td>-21.27</td>\n",
       "      <td>-21.27</td>\n",
       "    </tr>\n",
       "    <tr>\n",
       "      <th>1991-12-31 23:40:00+00:00</th>\n",
       "      <td>-22.53</td>\n",
       "      <td>-22.53</td>\n",
       "    </tr>\n",
       "    <tr>\n",
       "      <th>...</th>\n",
       "      <td>...</td>\n",
       "      <td>...</td>\n",
       "    </tr>\n",
       "    <tr>\n",
       "      <th>2022-01-01 22:10:00+00:00</th>\n",
       "      <td>-2.93</td>\n",
       "      <td>-2.93</td>\n",
       "    </tr>\n",
       "    <tr>\n",
       "      <th>2022-01-01 22:20:00+00:00</th>\n",
       "      <td>-2.21</td>\n",
       "      <td>-2.21</td>\n",
       "    </tr>\n",
       "    <tr>\n",
       "      <th>2022-01-01 22:30:00+00:00</th>\n",
       "      <td>-1.55</td>\n",
       "      <td>-1.55</td>\n",
       "    </tr>\n",
       "    <tr>\n",
       "      <th>2022-01-01 22:40:00+00:00</th>\n",
       "      <td>-8.93</td>\n",
       "      <td>-8.93</td>\n",
       "    </tr>\n",
       "    <tr>\n",
       "      <th>2022-01-01 22:50:00+00:00</th>\n",
       "      <td>-10.33</td>\n",
       "      <td>-10.33</td>\n",
       "    </tr>\n",
       "  </tbody>\n",
       "</table>\n",
       "<p>1577322 rows × 2 columns</p>\n",
       "</div>"
      ],
      "text/plain": [
       "                           ssh_corr[cm]  corr[cm]\n",
       "datetime[utc]                                    \n",
       "1991-12-31 23:00:00+00:00        -18.08    -18.08\n",
       "1991-12-31 23:10:00+00:00        -18.97    -18.97\n",
       "1991-12-31 23:20:00+00:00        -20.71    -20.71\n",
       "1991-12-31 23:30:00+00:00        -21.27    -21.27\n",
       "1991-12-31 23:40:00+00:00        -22.53    -22.53\n",
       "...                                 ...       ...\n",
       "2022-01-01 22:10:00+00:00         -2.93     -2.93\n",
       "2022-01-01 22:20:00+00:00         -2.21     -2.21\n",
       "2022-01-01 22:30:00+00:00         -1.55     -1.55\n",
       "2022-01-01 22:40:00+00:00         -8.93     -8.93\n",
       "2022-01-01 22:50:00+00:00        -10.33    -10.33\n",
       "\n",
       "[1577322 rows x 2 columns]"
      ]
     },
     "execution_count": 9,
     "metadata": {},
     "output_type": "execute_result"
    }
   ],
   "source": [
    "def save_results(tg_corr_x, fname):\n",
    "    save_df = pd.DataFrame(round(tg_corr_x, 2))\n",
    "    save_df = save_df.rename(columns={'ssh[cm]':'ssh_corr[cm]'})\n",
    "    save_df['corr[cm]'] = tg_corr_x.round(2)\n",
    "    save_df.to_csv(main_datapath_output + fname)\n",
    "    return save_df\n",
    "\n",
    "save_results(tg_corr_1, 'ttide_from_1year.csv')\n",
    "save_results(tg_corr_5, 'ttide_from_5years.csv')"
   ]
  }
 ],
 "metadata": {
  "kernelspec": {
   "display_name": "ttide",
   "language": "python",
   "name": "ttide"
  },
  "language_info": {
   "codemirror_mode": {
    "name": "ipython",
    "version": 3
   },
   "file_extension": ".py",
   "mimetype": "text/x-python",
   "name": "python",
   "nbconvert_exporter": "python",
   "pygments_lexer": "ipython3",
   "version": "3.9.12"
  }
 },
 "nbformat": 4,
 "nbformat_minor": 5
}
