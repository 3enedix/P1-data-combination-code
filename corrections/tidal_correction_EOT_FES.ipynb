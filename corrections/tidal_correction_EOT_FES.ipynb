{
 "cells": [
  {
   "cell_type": "markdown",
   "id": "f0a28de3",
   "metadata": {
    "tags": []
   },
   "source": [
    "## Tidal corrections from the ocean tide models EOT20 and FES2014\n",
    "\n",
    "Exports a .csv-file with the corrections for a 10-minute-time vector from 01.01.1992 to 21.12.2021. The time vector is taken from the tide gauge observations for the North Sea tide gauge from rijkswaterstaat.\n",
    "\n",
    "### Requirements to run this notebook\n",
    "#### Installation\n",
    "This notebook makes use of the [aviso-fes software](https://github.com/CNES/aviso-feshttps://github.com/CNES/aviso-fes). The python API `pyfes` is an Anaconda package, installation instructions can be found [here](https://anaconda.org/fbriol/pyfeshttps://anaconda.org/fbriol/pyfes).\n",
    "#### Data\n",
    "This notebook expects that the following datasets exist locally:\n",
    "1. Rijkswaterstaat tide gauge observations with filename `'TG_rijkswaterstaat_with-999999999_1992_01_01-2021_12_31.csv''TG_rijkswaterstaat_with-999999999_1992_01_01-2021_12_31.csv'`. ***add how it is created***\n",
    "2. EOT ocean tide model, downloadable [here](https://www.seanoe.org/data/00683/79489/https://www.seanoe.org/data/00683/79489/).\n",
    "3. FES2014 (FES2014b ocean tides extrapolated, FES2014a load tides), downloadable on this FTP-server after signing up for an account: ftp-access.aviso.altimetry.frftp-access.aviso.altimetry.fr\n",
    "more description on the FES2014 model is given [here](https://www.aviso.altimetry.fr/en/data/products/auxiliary-products/global-tide-fes/https://www.aviso.altimetry.fr/en/data/products/auxiliary-products/global-tide-fes/).\n",
    "4. Four configuration files for EOT/FES ocean tides/load tides, that tell the software which .nc-file belongs to which constituent. Configuration files for FES2014 can be downloaded from [github](https://github.com/CNES/aviso-fes/tree/main/data/fes2014https://github.com/CNES/aviso-fes/tree/main/data/fes2014). For use for EOT20 adapt the filenames to the .nc-files.\n",
    "\n",
    "    EOT20 provides less constituents than FES2014. To be comparable, delete all the consitutents in FES2014, that are not apparent in EOT20 (in the filenames indicated as 'red-to-eot').\n",
    "\n",
    "    Also, do not use SA and SSA as they include other signals as well and would remove the seasonal signal (in the filenames indicated as 'wo-SA-SSA').\n",
    "### Ouput\n",
    "Saves a .csv-file with tidal corrections for both models in the full 10-minute resolution (\\~100MB), as well as monthly averages (\\~23kB).\n"
   ]
  },
  {
   "cell_type": "code",
   "execution_count": 1,
   "id": "ef03bcd0",
   "metadata": {},
   "outputs": [],
   "source": [
    "import pandas as pd\n",
    "import pyfes\n",
    "import numpy as np"
   ]
  },
  {
   "cell_type": "markdown",
   "id": "2df1b4b8-2258-4583-9520-b173e77d5769",
   "metadata": {},
   "source": [
    "Get the vector of dates from the tide gauge observation (10-minute vector from rijkswaterstaat North Sea tide gauge). Not every date has an observation, that's why the \"with-999999999999999999\"-version is loaded, but the ssh values are not of interest here."
   ]
  },
  {
   "cell_type": "code",
   "execution_count": 2,
   "id": "2705ffc6-1b5a-4e6c-ad0b-9a3b64236212",
   "metadata": {},
   "outputs": [],
   "source": [
    "# datapaths to the tide models\n",
    "path_eot = '/media/bene/05748279-6089-4b9a-9546-c86b946cb93e/PhD-data/3_ocean_tide_models/2_EOT20/'\n",
    "path_fes = '/media/bene/05748279-6089-4b9a-9546-c86b946cb93e/PhD-data/3_ocean_tide_models/1_FES2014/'\n",
    "\n",
    "# datapaths to the configuration files\n",
    "path_eot_ocean_tide = path_eot + 'ocean_tide_wo-SA-SSA.ini'\n",
    "path_eot_load_tide = path_eot + 'load_tide_wo-SA-SSA.ini'\n",
    "path_fes_ocean_tide = path_fes + 'ocean_tide_extrapolated_red-to-eot_wo-SA-SSA.ini'\n",
    "path_fes_load_tide = path_fes + 'load_tide_red-to-eot_wo-SA-SSA.ini'\n",
    "\n",
    "# savepath, where to put the .csv-file with the corrections\n",
    "savepath = '/media/bene/05748279-6089-4b9a-9546-c86b946cb93e/PhD-data/3_ocean_tide_models/'"
   ]
  },
  {
   "cell_type": "code",
   "execution_count": 3,
   "id": "7201ef5d-8439-4f45-ad0a-5c467bdef43e",
   "metadata": {},
   "outputs": [],
   "source": [
    "datapath_TG = '/media/bene/05748279-6089-4b9a-9546-c86b946cb93e/PhD-data/6_tide_gauge/\\\n",
    "2_Ters-North_Sea_rijkswaterstaat/'\n",
    "filename = 'TG_rijkswaterstaat_with-999999999_1992_01_01-2021_12_31.csv'\n",
    "data = pd.read_csv(datapath_TG + filename, index_col='datetime[utc]', \\\n",
    "                  parse_dates=['datetime[utc]'])\n",
    "\n",
    "date = data.index.values.astype('datetime64[us]')\n",
    "# coordinates of the North-Sea-Tide-Gauge\n",
    "lat = np.full(len(date), 53.420034)\n",
    "lon = np.full(len(date), 5.351231)"
   ]
  },
  {
   "cell_type": "markdown",
   "id": "dcd87ded-1caa-4026-9533-875fda757463",
   "metadata": {},
   "source": [
    "Checks for duplicates, NaNs and gaps in the date vector:"
   ]
  },
  {
   "cell_type": "code",
   "execution_count": 4,
   "id": "583189d5-4eb5-4c8a-9d35-6b61502e092f",
   "metadata": {},
   "outputs": [
    {
     "name": "stdout",
     "output_type": "stream",
     "text": [
      "Duplicates:  0\n",
      "NaNs:  ssh[cm]    0\n",
      "dtype: int64\n"
     ]
    },
    {
     "data": {
      "text/plain": [
       "0"
      ]
     },
     "execution_count": 4,
     "metadata": {},
     "output_type": "execute_result"
    }
   ],
   "source": [
    "print(\"Duplicates: \", data.index.duplicated().sum())\n",
    "print(\"NaNs: \", data.isnull().sum())\n",
    "\n",
    "diffs = np.diff(date)\n",
    "idx = np.where(diffs != diffs[0])\n",
    "len(idx[0])"
   ]
  },
  {
   "cell_type": "code",
   "execution_count": 5,
   "id": "3d069a86-794f-4124-a0f6-4983e7caf477",
   "metadata": {},
   "outputs": [],
   "source": [
    "ocean_tide_eot_handler = pyfes.Handler('ocean', 'io', path_eot_ocean_tide)\n",
    "ocean_tide_eot = ocean_tide_eot_handler.calculate(lon, lat, date)\n",
    "\n",
    "load_tide_eot_handler = pyfes.Handler('radial', 'io', path_eot_load_tide)\n",
    "load_tide_eot = load_tide_eot_handler.calculate(lon, lat, date)"
   ]
  },
  {
   "cell_type": "code",
   "execution_count": 6,
   "id": "1a2db2ff-5c31-494e-82fd-798195e080e2",
   "metadata": {},
   "outputs": [],
   "source": [
    "ocean_tide_fes_handler = pyfes.Handler('ocean', 'io', path_fes_ocean_tide)\n",
    "ocean_tide_fes = ocean_tide_fes_handler.calculate(lon, lat, date)\n",
    "\n",
    "load_tide_fes_handler = pyfes.Handler('radial', 'io', path_fes_load_tide)\n",
    "load_tide_fes = load_tide_fes_handler.calculate(lon, lat, date)"
   ]
  },
  {
   "cell_type": "code",
   "execution_count": 7,
   "id": "8c73d465",
   "metadata": {},
   "outputs": [],
   "source": [
    "# total correction (diurnal and semidiurnal + long period wave constituents for ocean and load tides)\n",
    "corr_eot = ocean_tide_eot[0] + ocean_tide_eot[1] + load_tide_eot[0] + load_tide_eot[1]\n",
    "corr_fes = ocean_tide_fes[0] + ocean_tide_fes[1] + load_tide_fes[0] + load_tide_fes[1]"
   ]
  },
  {
   "cell_type": "code",
   "execution_count": 8,
   "id": "28fe2596",
   "metadata": {},
   "outputs": [],
   "source": [
    "# put date and both corrections in one dataframe\n",
    "corr_df = pd.DataFrame(columns=['date', 'corr_eot[cm]', 'corr_fes[cm]'])\n",
    "corr_df = corr_df.assign(date=data.index)\n",
    "corr_df = corr_df.set_index(['date'])\n",
    "corr_df['corr_eot[cm]'] = corr_eot\n",
    "corr_df['corr_fes[cm]'] = corr_fes\n",
    "\n",
    "# monthly averages\n",
    "corr_df_monav = corr_df.groupby(pd.Grouper(freq='M')).mean()"
   ]
  },
  {
   "cell_type": "code",
   "execution_count": 9,
   "id": "3fa64f2b",
   "metadata": {},
   "outputs": [],
   "source": [
    "savepath = '/media/bene/05748279-6089-4b9a-9546-c86b946cb93e/PhD-data/3_ocean_tide_models/'\n",
    "corr_df.to_csv(savepath + \"tidal_correction_10minutes.csv\")\n",
    "corr_df_monav.to_csv(savepath + \"tidal_correction_monthly.csv\")"
   ]
  }
 ],
 "metadata": {
  "kernelspec": {
   "display_name": "Python 3 (ipykernel)",
   "language": "python",
   "name": "python3"
  },
  "language_info": {
   "codemirror_mode": {
    "name": "ipython",
    "version": 3
   },
   "file_extension": ".py",
   "mimetype": "text/x-python",
   "name": "python",
   "nbconvert_exporter": "python",
   "pygments_lexer": "ipython3",
   "version": "3.9.12"
  }
 },
 "nbformat": 4,
 "nbformat_minor": 5
}
