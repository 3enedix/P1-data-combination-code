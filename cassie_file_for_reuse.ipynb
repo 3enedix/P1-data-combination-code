{
 "cells": [
  {
   "cell_type": "markdown",
   "id": "ca199e88-d59d-4ea6-9032-543c85f6323c",
   "metadata": {},
   "source": [
    "# Create a CASSIE dataset\n",
    "with the settings found reasonable in cassie_sensitivity_analysis.ipynb\n",
    "\n",
    "**Datasets this notebook expects to find** under the below given datapaths:\n",
    "- 4 folders under `datapath_cassie`, each containing a file `coastlines.shp` (output of Cassie webinterface application):\n",
    "    - `12_cassie_landsat_1984-04-30_1992-09-04_ext1000_spac5000_base2_multi-thresh/`\n",
    "    - `13_cassie_landsat_1992-09-20_2003-08-02_ext1000_spac5000_base2_multi-thresh/`\n",
    "    - `18_cassie_landsat_2003-09-19_2015-03-12_ext1300_spac5000_base1_multi-thresh/`\n",
    "    - `17_cassie_landsat_2015-04-13_2023-02-22_ext1300_spac5000_base1_multi-thresh/`\n",
    "- File `jarkus_transects_EPSG32631_reduced.geojson` in folder `datapath_jarkus'`\n",
    "- File `TG_rijkswaterstaat_1992_01_01-2021_12_31.csv` in folder `datapath_northseaTG`\n",
    "- File `transect_red_with_derivatives.nc` in folder `datapath_jarkus`\n",
    "\n",
    "Files that are **created** in this notebook (in case they don't exist):\n",
    "- `cd_cassie.pkl` in folder `datapath_cassie` (uncorrected intersections between shorelines and transects)\n",
    "- `sl_cassie_red_tides.pkl` in folder `datapath_cassie` (uncorrected intersections reduced to the TG timeperiod)\n",
    "- `beach_slope_cassie.pkl` in folder `datapath_cassie` (time- and space-variable beach slope around the shoreline)\n",
    "- `cd_cassie_tcorr.pkl` in folder `datapath_cassie` (corrected cross-shore timeseries)"
   ]
  },
  {
   "cell_type": "code",
   "execution_count": 1,
   "id": "cc11f853-e3fd-44ce-97c4-95275a918e65",
   "metadata": {
    "tags": []
   },
   "outputs": [],
   "source": [
    "main_datapath = '/media/bene/Seagate/PhD-data/'\n",
    "datapath_cassie = main_datapath + '10_RS_images/4_CASSIE/'\n",
    "datapath_jarkus_transects = main_datapath + '4_land_elevation/2_JARKUS/exported_transects/'\n",
    "datapath_jarkus = main_datapath + '4_land_elevation/2_JARKUS/'\n",
    "datapath_northseaTG = main_datapath + '6_tide_gauge/2_Ters-North_Sea_rijkswaterstaat/'"
   ]
  },
  {
   "cell_type": "markdown",
   "id": "05c2a1d9-b71d-4a80-9dc2-2e9d6cc8247b",
   "metadata": {
    "tags": []
   },
   "source": [
    "## Imports"
   ]
  },
  {
   "cell_type": "code",
   "execution_count": 2,
   "id": "b9bb3043-88ba-4d03-b3ec-afc5b948109a",
   "metadata": {},
   "outputs": [],
   "source": [
    "%load_ext autoreload\n",
    "%autoreload 2\n",
    "import shapefile\n",
    "import pandas as pd\n",
    "import statistics\n",
    "import numpy as np\n",
    "import xarray as xr\n",
    "import os\n",
    "import pickle\n",
    "\n",
    "# plotting\n",
    "import matplotlib.pyplot as plt\n",
    "from matplotlib import cm\n",
    "\n",
    "# toolboxes\n",
    "import sys\n",
    "sys.path.append('/home/bene/PhD-git/70_CoastSat')\n",
    "from coastsat import SDS_tools, SDS_transects\n",
    "\n",
    "from coastal_data import CD_statistics, CD_helper_functions\n",
    "\n",
    "# projection\n",
    "from pyproj import CRS, Transformer\n",
    "\n",
    "import pdb"
   ]
  },
  {
   "cell_type": "markdown",
   "id": "ef442d1e-6512-484e-8565-f2876eaa6012",
   "metadata": {},
   "source": [
    "## Load data"
   ]
  },
  {
   "cell_type": "code",
   "execution_count": 3,
   "id": "5412cd9c-1a67-4141-ae82-371474a15e33",
   "metadata": {},
   "outputs": [],
   "source": [
    "# Foldernames to the CASSIE shape files\n",
    "folders = ['12_cassie_landsat_1984-04-30_1992-09-04_ext1000_spac5000_base2_multi-thresh/',\\\n",
    "          '13_cassie_landsat_1992-09-20_2003-08-02_ext1000_spac5000_base2_multi-thresh/',\\\n",
    "          '18_cassie_landsat_2003-09-19_2015-03-12_ext1300_spac5000_base1_multi-thresh/',\\\n",
    "          '17_cassie_landsat_2015-04-13_2023-02-22_ext1300_spac5000_base1_multi-thresh/']\n",
    "fn = 'coastlines'\n",
    "\n",
    "# Transformation from EPSG 4326 to EPSG 32631\n",
    "crs_4326 = CRS.from_epsg(4326)\n",
    "crs_32631 = CRS.from_epsg(32631)\n",
    "transformer = Transformer.from_crs(crs_4326, crs_32631)\n",
    "\n",
    "datelist = []\n",
    "sllist = []\n",
    "\n",
    "for folder in folders:\n",
    "    sf = shapefile.Reader(datapath_cassie + folder + fn)    \n",
    "    shorelines = sf.shapeRecords().__geo_interface__ # shapefile to geojson\n",
    "    for sl in shorelines['features']:\n",
    "        date = pd.to_datetime(sl['properties']['date'], utc=True)\n",
    "        date = date.to_pydatetime()\n",
    "        datelist.append(date)\n",
    "\n",
    "        sl_4326 = sl['geometry']['coordinates']\n",
    "        sl_23631 = [transformer.transform(_[1], _[0]) for _ in sl_4326]\n",
    "        sllist_temp = [list(_) for _ in sl_23631]\n",
    "\n",
    "        sllist.append(np.array(sllist_temp))\n",
    "        \n",
    "# put the dates and shoreline coordinates in a dictionary (CoastSat-output-like)\n",
    "sl_cassie = {'dates' : datelist, 'shorelines' : sllist}"
   ]
  },
  {
   "cell_type": "markdown",
   "id": "7289e31a-e907-40af-8d8c-359f43d3c03b",
   "metadata": {},
   "source": [
    "## Load transects"
   ]
  },
  {
   "cell_type": "code",
   "execution_count": 4,
   "id": "5ca2aeb8-62c1-46df-99a8-a7c11983c1df",
   "metadata": {},
   "outputs": [
    {
     "name": "stdout",
     "output_type": "stream",
     "text": [
      "152 transects have been loaded\n"
     ]
    }
   ],
   "source": [
    "# JARKUS-transects\n",
    "fn = 'jarkus_transects_EPSG32631_reduced.geojson'\n",
    "geojson_file = datapath_jarkus_transects + fn\n",
    "transects = SDS_tools.transects_from_geojson(geojson_file)"
   ]
  },
  {
   "cell_type": "markdown",
   "id": "5b924362-c639-4e26-8a64-a84d139b0854",
   "metadata": {},
   "source": [
    "## Settings for timeseries"
   ]
  },
  {
   "cell_type": "code",
   "execution_count": 5,
   "id": "de0b3554-7bda-4da6-b1dd-8a7aef711b7b",
   "metadata": {},
   "outputs": [],
   "source": [
    "settings_ts = { # parameters for analysis of cross-shore time series\n",
    "    'along_dist': 1200,    # along-shore distance to use for computing the intersection\n",
    "    'sm_window_size' : 5, # window size for smoothing\n",
    "    # tidal correction\n",
    "    'beach_slope' : 'variable_median', #  number (= uniform beach slope), 'variable_median' or 'variable_mean'\n",
    "    'grad_buffer' : 45, # [m], 1/2 length of the zone where the gradients in each point are considered for mean or median\n",
    "    'water_levels_source' : 'tg', #'tg' or 'eot'\n",
    "    'tide_corr_thresh' : 100, # [m], threshold for maximum tidal correction     \n",
    "                    }"
   ]
  },
  {
   "cell_type": "markdown",
   "id": "232db1ed-bd19-4ddf-b7fe-2c25ea284111",
   "metadata": {},
   "source": [
    "## Compute intersections"
   ]
  },
  {
   "cell_type": "code",
   "execution_count": 7,
   "id": "dcba5bb1-7ec5-41a6-82e2-879f647f996e",
   "metadata": {},
   "outputs": [
    {
     "name": "stderr",
     "output_type": "stream",
     "text": [
      "/home/bene/PhD-git/1_gitlab_phd-project-bene/envs/coastsat/lib/python3.8/site-packages/numpy/lib/nanfunctions.py:1878: RuntimeWarning: Degrees of freedom <= 0 for slice.\n",
      "  var = nanvar(a, axis=axis, dtype=dtype, out=out, ddof=ddof,\n",
      "/home/bene/PhD-git/1_gitlab_phd-project-bene/envs/coastsat/lib/python3.8/site-packages/numpy/lib/nanfunctions.py:1217: RuntimeWarning: All-NaN slice encountered\n",
      "  r, k = function_base._ureduce(a, func=_nanmedian, axis=axis, out=out,\n",
      "/home/bene/PhD-git/70_CoastSat/coastsat/SDS_transects.py:341: RuntimeWarning: All-NaN slice encountered\n",
      "  max_intersect[i] = np.nanmax(xy_rot[0,:])\n",
      "/home/bene/PhD-git/70_CoastSat/coastsat/SDS_transects.py:342: RuntimeWarning: All-NaN slice encountered\n",
      "  min_intersect[i] = np.nanmin(xy_rot[0,:])\n"
     ]
    }
   ],
   "source": [
    "if not os.path.isfile(datapath_cassie + 'cd_cassie.pkl'):\n",
    "    settings_transects = { # parameters for computing intersections\n",
    "                  'along_dist': settings_ts['along_dist'],    # along-shore distance to use for computing the intersection\n",
    "                  'min_points':          3,         # minimum number of shoreline points to calculate an intersection\n",
    "                  'max_std':             15,        # max std for points around transect\n",
    "                  'max_range':           30,        # max range for points around transect\n",
    "                  'min_chainage':        -100,      # largest negative value along transect (landwards of transect origin)\n",
    "                  'multiple_inter':      'auto',    # mode for removing outliers ('auto', 'nan', 'max')\n",
    "                  'prc_multiple':         0.1,      # percentage of the time that multiple intersects are present to use the max\n",
    "                  'max_dist_origin':      10000,     # maximum distance to the origin of a transect in [m]\n",
    "                }\n",
    "    cd_cassie = SDS_transects.compute_intersection_QC(sl_cassie, transects, settings_transects)\n",
    "\n",
    "    # Interpolate over the nans\n",
    "    for key in cd_cassie.keys():\n",
    "        cd_cassie[key] = np.array(pd.Series(cd_cassie[key]).interpolate())\n",
    "\n",
    "    # Smoothing\n",
    "    cd_cassie_sm = {}\n",
    "    for key in cd_cassie.keys():\n",
    "        cd_cassie_sm[key] = CD_statistics.moving_average(cd_cassie[key], settings_ts['sm_window_size'])\n",
    "\n",
    "    pickle.dump(cd_cassie_sm, open(datapath_cassie + 'cd_cassie.pkl', 'wb'))\n",
    "else:\n",
    "    cd_cassie_sm = pickle.load(open(datapath_cassie + 'cd_cassie.pkl', 'rb'))"
   ]
  },
  {
   "cell_type": "markdown",
   "id": "00bbc3c9-70a3-4b2e-a53f-646eed220975",
   "metadata": {},
   "source": [
    "## Tidal correction"
   ]
  },
  {
   "cell_type": "markdown",
   "id": "968412f0-71b0-4e80-9884-cbe94c339345",
   "metadata": {
    "tags": []
   },
   "source": [
    "### Water levels"
   ]
  },
  {
   "cell_type": "code",
   "execution_count": 8,
   "id": "0567954b-a93e-4a49-bf43-992703f10fca",
   "metadata": {},
   "outputs": [],
   "source": [
    "# get tide gauge data (North Sea)\n",
    "data = pd.read_csv(datapath_northseaTG + 'TG_rijkswaterstaat_1992_01_01-2021_12_31.csv', index_col='datetime[utc]', \\\n",
    "                  parse_dates=['datetime[utc]'])\n",
    "tides_ts = np.array(data['ssh[cm]']) / 100 # [m]\n",
    "\n",
    "dates_ts = CD_helper_functions.datetime_to_decimal_numbers(data.index)\n",
    "dates_cassie = CD_helper_functions.datetime_to_decimal_numbers(pd.to_datetime(sl_cassie['dates']))\n",
    "\n",
    "# reduce SDS-timeseries to the timespan where tide gauge data is available\n",
    "idx_tides_cassie = np.where((np.array(dates_cassie) < dates_ts[-1]) & (np.array(dates_cassie) > dates_ts[0]))[0]\n",
    "dates_cassie = dates_cassie[idx_tides_cassie]\n",
    "\n",
    "tides_cassie = np.interp(dates_cassie, dates_ts, tides_ts)\n",
    "\n",
    "# reduce cross_distance and sl_dict to the timespan where tide data is available\n",
    "cd_cassie_red_tides = {}\n",
    "for key in cd_cassie_sm.keys():\n",
    "    cd_cassie_red_tides[key] = cd_cassie_sm[key][idx_tides_cassie]\n",
    "\n",
    "# sl_dict_red_tides\n",
    "sl_cassie_red_tides = {}\n",
    "sl_cassie_red_tides['dates'] = np.array(sl_cassie['dates'], dtype=object)[idx_tides_cassie]\n",
    "sl_cassie_red_tides['shorelines'] = np.array(sl_cassie['shorelines'], dtype=object)[idx_tides_cassie]\n",
    "\n",
    "pickle.dump(sl_cassie_red_tides, open(datapath_cassie + 'sl_cassie_red_tides.pkl', 'wb'))"
   ]
  },
  {
   "cell_type": "code",
   "execution_count": 9,
   "id": "12908ba9-4ce5-4288-9399-d4da7208ea86",
   "metadata": {},
   "outputs": [
    {
     "data": {
      "image/png": "[encoded data removed]",
      "text/plain": [
       "<Figure size 360x360 with 1 Axes>"
      ]
     },
     "metadata": {
      "needs_background": "light"
     },
     "output_type": "display_data"
    }
   ],
   "source": [
    "# water level histogram\n",
    "plt.figure(figsize=(5,5))\n",
    "# plt.plot(tides_cassie, '.')\n",
    "plt.hist(tides_cassie, bins=15)\n",
    "# plt.ylim([-1,1])\n",
    "plt.xlim([-1.6, 1.6])\n",
    "plt.grid()"
   ]
  },
  {
   "cell_type": "code",
   "execution_count": 10,
   "id": "98185645-615b-40e3-823c-603de3d81e0e",
   "metadata": {},
   "outputs": [
    {
     "name": "stdout",
     "output_type": "stream",
     "text": [
      "average water level at time of image acquitision -0.13138686131386862\n",
      "average water level over the entire time period -0.016236665690328275\n"
     ]
    }
   ],
   "source": [
    "print('average water level at time of image acquitision', np.nanmean(tides_cassie))\n",
    "print('average water level over the entire time period', np.nanmean(data['ssh[cm]']/100))"
   ]
  },
  {
   "cell_type": "markdown",
   "id": "b8f532c1-7e81-426b-a014-347457145a4d",
   "metadata": {},
   "source": [
    "### Variable beach slope"
   ]
  },
  {
   "cell_type": "code",
   "execution_count": 11,
   "id": "2e71f68f-92cf-4cd7-81ac-1349126faa3f",
   "metadata": {},
   "outputs": [],
   "source": [
    "def compute_variable_beach_slope(jarkus_data, sl_red_tides, cd_red_tides):\n",
    "    # 1. For each sl_dict-date, find the corresponding time-index in jarkus\n",
    "    sl_years = [_.year for _ in sl_red_tides['dates']]\n",
    "    jarkus_years = [pd.to_datetime(_.values).year for _ in jarkus_data.time]\n",
    "    # idx: which jarkus-gradient belongs to which shoreline in sl_dict\n",
    "    idx_time = [jarkus_years.index(_) for _ in sl_years]\n",
    "\n",
    "    beach_slope = {}\n",
    "    for key in cd_red_tides.keys():\n",
    "        # 2. Relate cross_distance coordinate system to jarkus.cross_shore\n",
    "        sl_cross = cd_red_tides[key] - 3000\n",
    "\n",
    "        # 3. Buffer around the shoreline position for each point in time\n",
    "        bnd_sea = sl_cross + settings_ts['grad_buffer']\n",
    "        bnd_land = sl_cross - settings_ts['grad_buffer']\n",
    "        # for each point in time, there is one cross-shore distance\n",
    "        # bnd_sea/land define the maximum seaward/landward point along the profile to take into account for each point in time\n",
    "\n",
    "        # 4. Get the gradients in the buffer zone\n",
    "        # get the respective transect\n",
    "        idx_along = np.where(jarkus_data.id == int(key))[0][0]\n",
    "\n",
    "        # filter the dataset for transect and time\n",
    "        grad = jarkus_data.altitude_red_1st_derivative[idx_time, idx_along, :]\n",
    "        if np.all(np.isnan(grad)):\n",
    "            beach_slope[key] = np.nan\n",
    "            continue\n",
    "        # checked for transect '4002880', all altitude variables are nan (not only the _red ones)\n",
    "\n",
    "        # compute mean/median       \n",
    "        if settings_ts['beach_slope'] == 'variable_mean':\n",
    "            grad_mean = [] # mean gradient\n",
    "            for t in range(0, len(grad.time)):\n",
    "                idx_cross = np.where((grad.cross_shore <= bnd_sea[t]) & (grad.cross_shore >= bnd_land[t]))[0]\n",
    "                grad_mean_temp = grad[t, idx_cross].mean().values\n",
    "                grad_mean.append(round(float(grad_mean_temp), 3))\n",
    "            # Interpolate over the nans\n",
    "            grad_mean = pd.Series(grad_mean).interpolate().tolist()\n",
    "            beach_slope[key] = grad_mean\n",
    "        elif settings_ts['beach_slope'] == 'variable_median':\n",
    "            grad_median = [] # median gradient        \n",
    "            for t in range(0, len(grad.time)):\n",
    "                idx_cross = np.where((grad.cross_shore <= bnd_sea[t]) & (grad.cross_shore >= bnd_land[t]))[0]\n",
    "                grad_median_temp = grad[t, idx_cross].median().values\n",
    "                grad_median.append(round(float(grad_median_temp), 3))\n",
    "            # Interpolate over the nans\n",
    "            grad_median = pd.Series(grad_median).interpolate().tolist()\n",
    "            beach_slope[key] = grad_median\n",
    "        elif settings_ts['beach_slope'] != str: # uniform beach slope\n",
    "            beach_slope[key] = settings_ts['beach_slope']\n",
    "            \n",
    "    return beach_slope    "
   ]
  },
  {
   "cell_type": "code",
   "execution_count": 12,
   "id": "ff6a2604-3ae1-4de6-9f7b-493968885db6",
   "metadata": {},
   "outputs": [
    {
     "name": "stderr",
     "output_type": "stream",
     "text": [
      "/home/bene/PhD-git/1_gitlab_phd-project-bene/envs/coastsat/lib/python3.8/site-packages/xarray/backends/plugins.py:71: RuntimeWarning: Engine 'cfgrib' loading failed:\n",
      "Cannot find the ecCodes library\n",
      "  warnings.warn(f\"Engine {name!r} loading failed:\\n{ex}\", RuntimeWarning)\n"
     ]
    }
   ],
   "source": [
    "if not os.path.isfile(datapath_cassie + 'beach_slope_cassie.pkl'):\n",
    "    jarkus_data = xr.open_dataset(datapath_jarkus + 'transect_red_with_derivatives.nc', engine='netcdf4')\n",
    "    beach_slope_cassie = compute_variable_beach_slope(jarkus_data, sl_cassie_red_tides, cd_cassie_red_tides)\n",
    "    pickle.dump(beach_slope_cassie, open(datapath_cassie + 'beach_slope_cassie.pkl', 'wb'))\n",
    "else:\n",
    "    beach_slope_cassie = pickle.load(open(datapath_cassie + 'beach_slope_cassie.pkl', 'rb'))"
   ]
  },
  {
   "cell_type": "markdown",
   "id": "42631f49-ef7a-4826-b34c-6e30c2970946",
   "metadata": {},
   "source": [
    "### Correction"
   ]
  },
  {
   "cell_type": "code",
   "execution_count": 13,
   "id": "b561c951-47af-4e83-8a00-f7a8eb09a299",
   "metadata": {},
   "outputs": [],
   "source": [
    "def compute_and_apply_correction(cd_red_tides, tides, beach_slope):\n",
    "    reference_elevation = 0\n",
    "    thresh_pos = settings_ts['tide_corr_thresh'] # [m] threshold the corrections to eliminate outliers\n",
    "    thresh_neg = -thresh_pos\n",
    "    \n",
    "    cd_tidalcorr = {}\n",
    "    for key in cd_red_tides.keys():\n",
    "        corr = (tides - reference_elevation) / beach_slope[key]\n",
    "        corr[corr > thresh_pos] = thresh_pos\n",
    "        corr[corr < thresh_neg] = thresh_neg\n",
    "        cd_tidalcorr[key] = cd_red_tides[key] - corr       \n",
    "        \n",
    "    # Smoothing\n",
    "    cd_tidalcorr_sm = {}\n",
    "    for key in cd_tidalcorr.keys():\n",
    "        cd_tidalcorr_sm[key] = CD_statistics.moving_average(cd_tidalcorr[key], settings_ts['sm_window_size'])\n",
    "    \n",
    "    return cd_tidalcorr_sm"
   ]
  },
  {
   "cell_type": "code",
   "execution_count": 14,
   "id": "06a31021-1311-41d6-b313-ea359db390af",
   "metadata": {},
   "outputs": [
    {
     "name": "stderr",
     "output_type": "stream",
     "text": [
      "<ipython-input-13-ab58d9dcb062>:8: RuntimeWarning: divide by zero encountered in divide\n",
      "  corr = (tides - reference_elevation) / beach_slope[key]\n"
     ]
    }
   ],
   "source": [
    "if not os.path.isfile(datapath_cassie + 'cd_cassie_tcorr.pkl'):\n",
    "    cd_cassie_tidalcorr_sm = compute_and_apply_correction(cd_cassie_red_tides, tides_cassie, beach_slope_cassie)\n",
    "    pickle.dump(cd_cassie_tidalcorr_sm, open(datapath_cassie + 'cd_cassie_tcorr.pkl', 'wb'))"
   ]
  }
 ],
 "metadata": {
  "kernelspec": {
   "display_name": "coastsat",
   "language": "python",
   "name": "coastsat"
  },
  "language_info": {
   "codemirror_mode": {
    "name": "ipython",
    "version": 3
   },
   "file_extension": ".py",
   "mimetype": "text/x-python",
   "name": "python",
   "nbconvert_exporter": "python",
   "pygments_lexer": "ipython3",
   "version": "3.8.10"
  }
 },
 "nbformat": 4,
 "nbformat_minor": 5
}
