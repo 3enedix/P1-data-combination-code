{
 "cells": [
  {
   "cell_type": "markdown",
   "id": "6217f8c1-cb36-4ba9-9b74-a647d319d296",
   "metadata": {},
   "source": [
    "# Compute sea level changes due to atmospheric pressure (\"inverted barometer\" or \"IB correction\")\n",
    "\n",
    "**Datasets this notebook expects to find** under the below given datapaths:\n",
    "- `land_mask_0p25_oceanFull_invGrd.nc` (land-ocean mask by Bernd Uebbing)\n",
    "\n",
    "Files that are **created** in this notebook (in case they don't exist):\n",
    "- `era5_mean_sea_level_pressure.nc` (Global monthly mean sea level pressure for the period 01/1992 - 12/2021, downloaded from ERA5)\n",
    "- `ib_correction_era5_1992-2021.nc`"
   ]
  },
  {
   "cell_type": "code",
   "execution_count": 1,
   "id": "57505ff4-6d53-48f7-8294-a94f845cef46",
   "metadata": {},
   "outputs": [],
   "source": [
    "import os\n",
    "import xarray as xr\n",
    "import numpy as np\n",
    "import matplotlib.pyplot as plt\n",
    "import json\n",
    "from datetime import datetime"
   ]
  },
  {
   "cell_type": "raw",
   "id": "d6de8f32-e67c-406a-979c-660da3bbff4b",
   "metadata": {},
   "source": [
    "# Adjust the datapath to your needs.\n",
    "datapath = '/data/depot/0_data_copies/'"
   ]
  },
  {
   "cell_type": "code",
   "execution_count": 2,
   "id": "ab4ffa73-e92f-47ae-a81a-72218772a028",
   "metadata": {},
   "outputs": [],
   "source": [
    "main_datapath_input = '/home/bene/PhD-docs/80_papers/1_dataset_combination/data/input/'\n",
    "main_datapath_output = '/home/bene/PhD-docs/80_papers/1_dataset_combination/data/output/'"
   ]
  },
  {
   "cell_type": "code",
   "execution_count": 3,
   "id": "b209e0d4-d670-48f4-84bc-10973d4d37a4",
   "metadata": {},
   "outputs": [],
   "source": [
    "g = 9.80665 # mean gravitational acceleration [m/s^2]\n",
    "d = 1027 # standard value for ocean surface water density [kg/m^3]"
   ]
  },
  {
   "cell_type": "markdown",
   "id": "3a8ea0e8-4cef-45e6-9fe1-119a51fb09b8",
   "metadata": {
    "tags": []
   },
   "source": [
    "#### Download ERA5 global monthly mean sea level pressure for the period 01/1992 - 12/2021"
   ]
  },
  {
   "cell_type": "code",
   "execution_count": 4,
   "id": "9fef6ca7-8b78-4e16-bdb9-359ffa58ca70",
   "metadata": {},
   "outputs": [],
   "source": [
    "if not os.path.isfile(main_datapath_input+'era5_mean_sea_level_pressure.nc'):\n",
    "    import cdsapi\n",
    "\n",
    "    c = cdsapi.Client()\n",
    "\n",
    "    c.retrieve(\n",
    "        'reanalysis-era5-single-levels-monthly-means',\n",
    "        {\n",
    "            'product_type': 'monthly_averaged_reanalysis',\n",
    "            'variable': 'mean_sea_level_pressure',\n",
    "            'year': [\n",
    "                '1992', '1993', '1994',\n",
    "                '1995', '1996', '1997',\n",
    "                '1998', '1999', '2000',\n",
    "                '2001', '2002', '2003',\n",
    "                '2004', '2005', '2006',\n",
    "                '2007', '2008', '2009',\n",
    "                '2010', '2011', '2012',\n",
    "                '2013', '2014', '2015',\n",
    "                '2016', '2017', '2018',\n",
    "                '2019', '2020', '2021',\n",
    "            ],\n",
    "            'month': [\n",
    "                '01', '02', '03',\n",
    "                '04', '05', '06',\n",
    "                '07', '08', '09',\n",
    "                '10', '11', '12',\n",
    "            ],\n",
    "            'time': '00:00',\n",
    "            'format': 'netcdf',\n",
    "        },\n",
    "        main_datapath_input + 'era5_mean_sea_level_pressure.nc')"
   ]
  },
  {
   "cell_type": "markdown",
   "id": "19c1b961-d628-43ed-8a3e-b3a1917da582",
   "metadata": {},
   "source": [
    "#### Compute and save monthly IB correction"
   ]
  },
  {
   "cell_type": "code",
   "execution_count": 5,
   "id": "e1ad9c24-e854-427a-baff-487b1163e6c8",
   "metadata": {},
   "outputs": [],
   "source": [
    "ds = xr.open_dataset(main_datapath_input + 'era5_mean_sea_level_pressure.nc', engine='netcdf4')"
   ]
  },
  {
   "cell_type": "markdown",
   "id": "e503fb77-9b17-42f2-9fea-99857f8bf38b",
   "metadata": {},
   "source": [
    "ocean mask:"
   ]
  },
  {
   "cell_type": "code",
   "execution_count": 6,
   "id": "51d7c888-5405-4571-a443-9426d3064380",
   "metadata": {},
   "outputs": [],
   "source": [
    "mask = xr.open_dataset(main_datapath_input + 'land_mask_0p25_oceanFull_invGrd.nc', engine='netcdf4')\n",
    "mask = mask.squeeze('time').reset_coords('time', drop=True)\n",
    "mask = mask.z > 0.5\n",
    "mask = mask[:,:1440]\n",
    "mask = np.flipud(mask)\n",
    "mask_temp1 = mask[:,:720]\n",
    "mask_temp2 = mask[:,720:]\n",
    "mask = np.hstack((mask_temp2, mask_temp1))\n",
    "mask = np.invert(mask)\n",
    "mask = np.broadcast_to(mask, ds.msl.shape)\n",
    "msl_ocean = np.ma.masked_array(ds.msl, mask=mask)"
   ]
  },
  {
   "cell_type": "markdown",
   "id": "647e2bca-1935-4942-9e00-a2ef2031c53a",
   "metadata": {},
   "source": [
    "latitude weighting & mean over total ocean surface:"
   ]
  },
  {
   "cell_type": "code",
   "execution_count": null,
   "id": "1af6c832-0afd-4ab0-bd56-6f32d9734285",
   "metadata": {},
   "outputs": [],
   "source": [
    "weights = np.cos(ds.latitude * np.pi / 180)\n",
    "weights = np.resize(weights, (len(ds.longitude),len(ds.latitude)))\n",
    "weights = np.transpose(weights)\n",
    "weights = np.ma.masked_array(weights, mask=mask[0])\n",
    "\n",
    "msl_ocean_w = msl_ocean * weights\n",
    "msl_ocean_w_mean = msl_ocean_w.sum(axis=(1,2)) / weights.sum()"
   ]
  },
  {
   "cell_type": "markdown",
   "id": "937b5a09-2d2a-4efe-952f-c31ba8622842",
   "metadata": {},
   "source": [
    "IB correction:"
   ]
  },
  {
   "cell_type": "code",
   "execution_count": null,
   "id": "64f10da9-5b50-4fc9-8ce5-1c7ee2aa7833",
   "metadata": {},
   "outputs": [],
   "source": [
    "msl_ocean_w_mean = msl_ocean_w_mean.reshape((len(msl_ocean_w_mean),1,1))\n",
    "msl_ocean_w_mean = np.broadcast_to(msl_ocean_w_mean, (msl_ocean.shape))\n",
    "corr = (msl_ocean - msl_ocean_w_mean) / (d * g)"
   ]
  },
  {
   "cell_type": "code",
   "execution_count": null,
   "id": "276efac9-1d22-43a3-bf84-e2025053a4d9",
   "metadata": {},
   "outputs": [],
   "source": [
    "plt.figure(1, figsize=(20,10))\n",
    "plt.matshow(corr.mean(axis=0), fignum=1)\n",
    "plt.colorbar()\n",
    "plt.title('IB correction in [m]')"
   ]
  },
  {
   "cell_type": "code",
   "execution_count": null,
   "id": "df61bf98-82e7-4457-8f2e-2cd15cb28899",
   "metadata": {},
   "outputs": [],
   "source": [
    "data_vars = {'IB_correction':(['time', 'lat', 'lon'], corr,\n",
    "            {'long_name':'Inverted barometer height correction',\n",
    "            'units': 'm',\n",
    "            'pressure data':'ERA5 monthly mean sea level pressure',\n",
    "            'period': '01/1992 - 12/2021',\n",
    "            })}\n",
    "\n",
    "coords = {'time': (['time'], ds.time.values),\n",
    "        'lat': (['lat'], ds.latitude.values),\n",
    "        'lon': (['lon'], ds.longitude.values)}\n",
    "\n",
    "attrs = {'description':'Inverted barometer correction for sea level heights from ERA5, globally.',\n",
    "        'creation_date':json.dumps(datetime.now(), indent=4, sort_keys=True, default=str),\n",
    "        'author':'Bene Aschenneller',\n",
    "        'email':'s.aschenneller@utwente.nl'}\n",
    "\n",
    "ds_corr = xr.Dataset(data_vars, coords, attrs)\n",
    "ds_corr.to_netcdf(main_datapath_output + 'ib_correction_era5_1992-2021.nc', format='NETCDF4', encoding={'IB_correction':{'dtype':'int32', 'scale_factor': 1e-5}} )"
   ]
  }
 ],
 "metadata": {
  "kernelspec": {
   "display_name": "Python 3 (ipykernel)",
   "language": "python",
   "name": "python3"
  },
  "language_info": {
   "codemirror_mode": {
    "name": "ipython",
    "version": 3
   },
   "file_extension": ".py",
   "mimetype": "text/x-python",
   "name": "python",
   "nbconvert_exporter": "python",
   "pygments_lexer": "ipython3",
   "version": "3.9.12"
  }
 },
 "nbformat": 4,
 "nbformat_minor": 5
}
